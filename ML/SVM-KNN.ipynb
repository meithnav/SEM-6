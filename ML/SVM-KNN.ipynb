{
  "nbformat": 4,
  "nbformat_minor": 0,
  "metadata": {
    "colab": {
      "name": "ML_EXP3.ipynb",
      "provenance": [],
      "collapsed_sections": []
    },
    "kernelspec": {
      "name": "python3",
      "display_name": "Python 3"
    },
    "language_info": {
      "name": "python"
    }
  },
  "cells": [
    {
      "cell_type": "markdown",
      "source": [
        "# SVM & KNN"
      ],
      "metadata": {
        "id": "hltfHJ5Tc23l"
      }
    },
    {
      "cell_type": "markdown",
      "source": [
        "### DATASET"
      ],
      "metadata": {
        "id": "G6PDY7N1c8Qf"
      }
    },
    {
      "cell_type": "code",
      "source": [
        "import pandas as pd\n",
        "import numpy as np \n",
        "import random\n",
        "import math\n",
        "import matplotlib.pyplot as plt \n",
        "%matplotlib inline\n",
        "import warnings\n",
        "warnings.filterwarnings('ignore')\n",
        "\n",
        "\n",
        "from sklearn.model_selection import train_test_split\n",
        "from sklearn.metrics import mean_squared_error,accuracy_score\n"
      ],
      "metadata": {
        "id": "x6_ToilY41I0"
      },
      "execution_count": null,
      "outputs": []
    },
    {
      "cell_type": "code",
      "execution_count": null,
      "metadata": {
        "colab": {
          "base_uri": "https://localhost:8080/",
          "height": 522
        },
        "id": "qKsKTZoY4QHr",
        "outputId": "def091cf-5056-4a3a-d1b1-db3c78b326cd"
      },
      "outputs": [
        {
          "output_type": "execute_result",
          "data": {
            "text/plain": [
              "      Unnamed: 0  Unnamed: 0.1   type  fixed acidity  volatile acidity  \\\n",
              "0              0             0  white            7.0             0.270   \n",
              "1              1             1  white            6.3             0.300   \n",
              "2              2             2  white            8.1             0.280   \n",
              "3              3             3  white            7.2             0.230   \n",
              "4              4             4  white            7.2             0.230   \n",
              "...          ...           ...    ...            ...               ...   \n",
              "6458        6491          6491    red            6.8             0.620   \n",
              "6459        6492          6492    red            6.2             0.600   \n",
              "6460        6494          6494    red            6.3             0.510   \n",
              "6461        6495          6495    red            5.9             0.645   \n",
              "6462        6496          6496    red            6.0             0.310   \n",
              "\n",
              "      citric acid  residual sugar  chlorides  free sulfur dioxide  \\\n",
              "0            0.36            20.7      0.045                 45.0   \n",
              "1            0.34             1.6      0.049                 14.0   \n",
              "2            0.40             6.9      0.050                 30.0   \n",
              "3            0.32             8.5      0.058                 47.0   \n",
              "4            0.32             8.5      0.058                 47.0   \n",
              "...           ...             ...        ...                  ...   \n",
              "6458         0.08             1.9      0.068                 28.0   \n",
              "6459         0.08             2.0      0.090                 32.0   \n",
              "6460         0.13             2.3      0.076                 29.0   \n",
              "6461         0.12             2.0      0.075                 32.0   \n",
              "6462         0.47             3.6      0.067                 18.0   \n",
              "\n",
              "      total sulfur dioxide  density    pH  sulphates  alcohol  quality  \n",
              "0                    170.0  1.00100  3.00       0.45      8.8        6  \n",
              "1                    132.0  0.99400  3.30       0.49      9.5        6  \n",
              "2                     97.0  0.99510  3.26       0.44     10.1        6  \n",
              "3                    186.0  0.99560  3.19       0.40      9.9        6  \n",
              "4                    186.0  0.99560  3.19       0.40      9.9        6  \n",
              "...                    ...      ...   ...        ...      ...      ...  \n",
              "6458                  38.0  0.99651  3.42       0.82      9.5        6  \n",
              "6459                  44.0  0.99490  3.45       0.58     10.5        5  \n",
              "6460                  40.0  0.99574  3.42       0.75     11.0        6  \n",
              "6461                  44.0  0.99547  3.57       0.71     10.2        5  \n",
              "6462                  42.0  0.99549  3.39       0.66     11.0        6  \n",
              "\n",
              "[6463 rows x 15 columns]"
            ],
            "text/html": [
              "\n",
              "  <div id=\"df-266787f6-7f4d-4ecd-8720-ebdf065c71d6\">\n",
              "    <div class=\"colab-df-container\">\n",
              "      <div>\n",
              "<style scoped>\n",
              "    .dataframe tbody tr th:only-of-type {\n",
              "        vertical-align: middle;\n",
              "    }\n",
              "\n",
              "    .dataframe tbody tr th {\n",
              "        vertical-align: top;\n",
              "    }\n",
              "\n",
              "    .dataframe thead th {\n",
              "        text-align: right;\n",
              "    }\n",
              "</style>\n",
              "<table border=\"1\" class=\"dataframe\">\n",
              "  <thead>\n",
              "    <tr style=\"text-align: right;\">\n",
              "      <th></th>\n",
              "      <th>Unnamed: 0</th>\n",
              "      <th>Unnamed: 0.1</th>\n",
              "      <th>type</th>\n",
              "      <th>fixed acidity</th>\n",
              "      <th>volatile acidity</th>\n",
              "      <th>citric acid</th>\n",
              "      <th>residual sugar</th>\n",
              "      <th>chlorides</th>\n",
              "      <th>free sulfur dioxide</th>\n",
              "      <th>total sulfur dioxide</th>\n",
              "      <th>density</th>\n",
              "      <th>pH</th>\n",
              "      <th>sulphates</th>\n",
              "      <th>alcohol</th>\n",
              "      <th>quality</th>\n",
              "    </tr>\n",
              "  </thead>\n",
              "  <tbody>\n",
              "    <tr>\n",
              "      <th>0</th>\n",
              "      <td>0</td>\n",
              "      <td>0</td>\n",
              "      <td>white</td>\n",
              "      <td>7.0</td>\n",
              "      <td>0.270</td>\n",
              "      <td>0.36</td>\n",
              "      <td>20.7</td>\n",
              "      <td>0.045</td>\n",
              "      <td>45.0</td>\n",
              "      <td>170.0</td>\n",
              "      <td>1.00100</td>\n",
              "      <td>3.00</td>\n",
              "      <td>0.45</td>\n",
              "      <td>8.8</td>\n",
              "      <td>6</td>\n",
              "    </tr>\n",
              "    <tr>\n",
              "      <th>1</th>\n",
              "      <td>1</td>\n",
              "      <td>1</td>\n",
              "      <td>white</td>\n",
              "      <td>6.3</td>\n",
              "      <td>0.300</td>\n",
              "      <td>0.34</td>\n",
              "      <td>1.6</td>\n",
              "      <td>0.049</td>\n",
              "      <td>14.0</td>\n",
              "      <td>132.0</td>\n",
              "      <td>0.99400</td>\n",
              "      <td>3.30</td>\n",
              "      <td>0.49</td>\n",
              "      <td>9.5</td>\n",
              "      <td>6</td>\n",
              "    </tr>\n",
              "    <tr>\n",
              "      <th>2</th>\n",
              "      <td>2</td>\n",
              "      <td>2</td>\n",
              "      <td>white</td>\n",
              "      <td>8.1</td>\n",
              "      <td>0.280</td>\n",
              "      <td>0.40</td>\n",
              "      <td>6.9</td>\n",
              "      <td>0.050</td>\n",
              "      <td>30.0</td>\n",
              "      <td>97.0</td>\n",
              "      <td>0.99510</td>\n",
              "      <td>3.26</td>\n",
              "      <td>0.44</td>\n",
              "      <td>10.1</td>\n",
              "      <td>6</td>\n",
              "    </tr>\n",
              "    <tr>\n",
              "      <th>3</th>\n",
              "      <td>3</td>\n",
              "      <td>3</td>\n",
              "      <td>white</td>\n",
              "      <td>7.2</td>\n",
              "      <td>0.230</td>\n",
              "      <td>0.32</td>\n",
              "      <td>8.5</td>\n",
              "      <td>0.058</td>\n",
              "      <td>47.0</td>\n",
              "      <td>186.0</td>\n",
              "      <td>0.99560</td>\n",
              "      <td>3.19</td>\n",
              "      <td>0.40</td>\n",
              "      <td>9.9</td>\n",
              "      <td>6</td>\n",
              "    </tr>\n",
              "    <tr>\n",
              "      <th>4</th>\n",
              "      <td>4</td>\n",
              "      <td>4</td>\n",
              "      <td>white</td>\n",
              "      <td>7.2</td>\n",
              "      <td>0.230</td>\n",
              "      <td>0.32</td>\n",
              "      <td>8.5</td>\n",
              "      <td>0.058</td>\n",
              "      <td>47.0</td>\n",
              "      <td>186.0</td>\n",
              "      <td>0.99560</td>\n",
              "      <td>3.19</td>\n",
              "      <td>0.40</td>\n",
              "      <td>9.9</td>\n",
              "      <td>6</td>\n",
              "    </tr>\n",
              "    <tr>\n",
              "      <th>...</th>\n",
              "      <td>...</td>\n",
              "      <td>...</td>\n",
              "      <td>...</td>\n",
              "      <td>...</td>\n",
              "      <td>...</td>\n",
              "      <td>...</td>\n",
              "      <td>...</td>\n",
              "      <td>...</td>\n",
              "      <td>...</td>\n",
              "      <td>...</td>\n",
              "      <td>...</td>\n",
              "      <td>...</td>\n",
              "      <td>...</td>\n",
              "      <td>...</td>\n",
              "      <td>...</td>\n",
              "    </tr>\n",
              "    <tr>\n",
              "      <th>6458</th>\n",
              "      <td>6491</td>\n",
              "      <td>6491</td>\n",
              "      <td>red</td>\n",
              "      <td>6.8</td>\n",
              "      <td>0.620</td>\n",
              "      <td>0.08</td>\n",
              "      <td>1.9</td>\n",
              "      <td>0.068</td>\n",
              "      <td>28.0</td>\n",
              "      <td>38.0</td>\n",
              "      <td>0.99651</td>\n",
              "      <td>3.42</td>\n",
              "      <td>0.82</td>\n",
              "      <td>9.5</td>\n",
              "      <td>6</td>\n",
              "    </tr>\n",
              "    <tr>\n",
              "      <th>6459</th>\n",
              "      <td>6492</td>\n",
              "      <td>6492</td>\n",
              "      <td>red</td>\n",
              "      <td>6.2</td>\n",
              "      <td>0.600</td>\n",
              "      <td>0.08</td>\n",
              "      <td>2.0</td>\n",
              "      <td>0.090</td>\n",
              "      <td>32.0</td>\n",
              "      <td>44.0</td>\n",
              "      <td>0.99490</td>\n",
              "      <td>3.45</td>\n",
              "      <td>0.58</td>\n",
              "      <td>10.5</td>\n",
              "      <td>5</td>\n",
              "    </tr>\n",
              "    <tr>\n",
              "      <th>6460</th>\n",
              "      <td>6494</td>\n",
              "      <td>6494</td>\n",
              "      <td>red</td>\n",
              "      <td>6.3</td>\n",
              "      <td>0.510</td>\n",
              "      <td>0.13</td>\n",
              "      <td>2.3</td>\n",
              "      <td>0.076</td>\n",
              "      <td>29.0</td>\n",
              "      <td>40.0</td>\n",
              "      <td>0.99574</td>\n",
              "      <td>3.42</td>\n",
              "      <td>0.75</td>\n",
              "      <td>11.0</td>\n",
              "      <td>6</td>\n",
              "    </tr>\n",
              "    <tr>\n",
              "      <th>6461</th>\n",
              "      <td>6495</td>\n",
              "      <td>6495</td>\n",
              "      <td>red</td>\n",
              "      <td>5.9</td>\n",
              "      <td>0.645</td>\n",
              "      <td>0.12</td>\n",
              "      <td>2.0</td>\n",
              "      <td>0.075</td>\n",
              "      <td>32.0</td>\n",
              "      <td>44.0</td>\n",
              "      <td>0.99547</td>\n",
              "      <td>3.57</td>\n",
              "      <td>0.71</td>\n",
              "      <td>10.2</td>\n",
              "      <td>5</td>\n",
              "    </tr>\n",
              "    <tr>\n",
              "      <th>6462</th>\n",
              "      <td>6496</td>\n",
              "      <td>6496</td>\n",
              "      <td>red</td>\n",
              "      <td>6.0</td>\n",
              "      <td>0.310</td>\n",
              "      <td>0.47</td>\n",
              "      <td>3.6</td>\n",
              "      <td>0.067</td>\n",
              "      <td>18.0</td>\n",
              "      <td>42.0</td>\n",
              "      <td>0.99549</td>\n",
              "      <td>3.39</td>\n",
              "      <td>0.66</td>\n",
              "      <td>11.0</td>\n",
              "      <td>6</td>\n",
              "    </tr>\n",
              "  </tbody>\n",
              "</table>\n",
              "<p>6463 rows × 15 columns</p>\n",
              "</div>\n",
              "      <button class=\"colab-df-convert\" onclick=\"convertToInteractive('df-266787f6-7f4d-4ecd-8720-ebdf065c71d6')\"\n",
              "              title=\"Convert this dataframe to an interactive table.\"\n",
              "              style=\"display:none;\">\n",
              "        \n",
              "  <svg xmlns=\"http://www.w3.org/2000/svg\" height=\"24px\"viewBox=\"0 0 24 24\"\n",
              "       width=\"24px\">\n",
              "    <path d=\"M0 0h24v24H0V0z\" fill=\"none\"/>\n",
              "    <path d=\"M18.56 5.44l.94 2.06.94-2.06 2.06-.94-2.06-.94-.94-2.06-.94 2.06-2.06.94zm-11 1L8.5 8.5l.94-2.06 2.06-.94-2.06-.94L8.5 2.5l-.94 2.06-2.06.94zm10 10l.94 2.06.94-2.06 2.06-.94-2.06-.94-.94-2.06-.94 2.06-2.06.94z\"/><path d=\"M17.41 7.96l-1.37-1.37c-.4-.4-.92-.59-1.43-.59-.52 0-1.04.2-1.43.59L10.3 9.45l-7.72 7.72c-.78.78-.78 2.05 0 2.83L4 21.41c.39.39.9.59 1.41.59.51 0 1.02-.2 1.41-.59l7.78-7.78 2.81-2.81c.8-.78.8-2.07 0-2.86zM5.41 20L4 18.59l7.72-7.72 1.47 1.35L5.41 20z\"/>\n",
              "  </svg>\n",
              "      </button>\n",
              "      \n",
              "  <style>\n",
              "    .colab-df-container {\n",
              "      display:flex;\n",
              "      flex-wrap:wrap;\n",
              "      gap: 12px;\n",
              "    }\n",
              "\n",
              "    .colab-df-convert {\n",
              "      background-color: #E8F0FE;\n",
              "      border: none;\n",
              "      border-radius: 50%;\n",
              "      cursor: pointer;\n",
              "      display: none;\n",
              "      fill: #1967D2;\n",
              "      height: 32px;\n",
              "      padding: 0 0 0 0;\n",
              "      width: 32px;\n",
              "    }\n",
              "\n",
              "    .colab-df-convert:hover {\n",
              "      background-color: #E2EBFA;\n",
              "      box-shadow: 0px 1px 2px rgba(60, 64, 67, 0.3), 0px 1px 3px 1px rgba(60, 64, 67, 0.15);\n",
              "      fill: #174EA6;\n",
              "    }\n",
              "\n",
              "    [theme=dark] .colab-df-convert {\n",
              "      background-color: #3B4455;\n",
              "      fill: #D2E3FC;\n",
              "    }\n",
              "\n",
              "    [theme=dark] .colab-df-convert:hover {\n",
              "      background-color: #434B5C;\n",
              "      box-shadow: 0px 1px 3px 1px rgba(0, 0, 0, 0.15);\n",
              "      filter: drop-shadow(0px 1px 2px rgba(0, 0, 0, 0.3));\n",
              "      fill: #FFFFFF;\n",
              "    }\n",
              "  </style>\n",
              "\n",
              "      <script>\n",
              "        const buttonEl =\n",
              "          document.querySelector('#df-266787f6-7f4d-4ecd-8720-ebdf065c71d6 button.colab-df-convert');\n",
              "        buttonEl.style.display =\n",
              "          google.colab.kernel.accessAllowed ? 'block' : 'none';\n",
              "\n",
              "        async function convertToInteractive(key) {\n",
              "          const element = document.querySelector('#df-266787f6-7f4d-4ecd-8720-ebdf065c71d6');\n",
              "          const dataTable =\n",
              "            await google.colab.kernel.invokeFunction('convertToInteractive',\n",
              "                                                     [key], {});\n",
              "          if (!dataTable) return;\n",
              "\n",
              "          const docLinkHtml = 'Like what you see? Visit the ' +\n",
              "            '<a target=\"_blank\" href=https://colab.research.google.com/notebooks/data_table.ipynb>data table notebook</a>'\n",
              "            + ' to learn more about interactive tables.';\n",
              "          element.innerHTML = '';\n",
              "          dataTable['output_type'] = 'display_data';\n",
              "          await google.colab.output.renderOutput(dataTable, element);\n",
              "          const docLink = document.createElement('div');\n",
              "          docLink.innerHTML = docLinkHtml;\n",
              "          element.appendChild(docLink);\n",
              "        }\n",
              "      </script>\n",
              "    </div>\n",
              "  </div>\n",
              "  "
            ]
          },
          "metadata": {},
          "execution_count": 41
        }
      ],
      "source": [
        "df = pd.read_csv('wineQuality.csv')\n",
        "df"
      ]
    },
    {
      "cell_type": "code",
      "source": [
        "df.type.unique()"
      ],
      "metadata": {
        "colab": {
          "base_uri": "https://localhost:8080/"
        },
        "id": "lfXSP-pZ6w8r",
        "outputId": "66d6e25a-2034-4c5f-aa51-0a68b6c216b5"
      },
      "execution_count": null,
      "outputs": [
        {
          "output_type": "execute_result",
          "data": {
            "text/plain": [
              "array(['white', 'red'], dtype=object)"
            ]
          },
          "metadata": {},
          "execution_count": 94
        }
      ]
    },
    {
      "cell_type": "code",
      "source": [
        "df.isnull().sum()"
      ],
      "metadata": {
        "colab": {
          "base_uri": "https://localhost:8080/"
        },
        "id": "Ktgl8IqJ7XiA",
        "outputId": "bca11f75-2582-4dcd-be51-876456d368c9"
      },
      "execution_count": null,
      "outputs": [
        {
          "output_type": "execute_result",
          "data": {
            "text/plain": [
              "type                     0\n",
              "fixed acidity           10\n",
              "volatile acidity         8\n",
              "citric acid              3\n",
              "residual sugar           2\n",
              "chlorides                2\n",
              "free sulfur dioxide      0\n",
              "total sulfur dioxide     0\n",
              "density                  0\n",
              "pH                       9\n",
              "sulphates                4\n",
              "alcohol                  0\n",
              "quality                  0\n",
              "dtype: int64"
            ]
          },
          "metadata": {},
          "execution_count": 95
        }
      ]
    },
    {
      "cell_type": "code",
      "source": [
        "df.dropna(axis=0, inplace=True)"
      ],
      "metadata": {
        "id": "DdiJxFw37cLF"
      },
      "execution_count": null,
      "outputs": []
    },
    {
      "cell_type": "code",
      "source": [
        "X = df.drop( 'type',axis=1)\n",
        "y= df.type"
      ],
      "metadata": {
        "id": "L_fR_g7s62Ab"
      },
      "execution_count": null,
      "outputs": []
    },
    {
      "cell_type": "code",
      "source": [
        "plt.figure(figsize=(6,3))\n",
        "plt.scatter(np.arange(len(X)), y)\n",
        "plt.show()"
      ],
      "metadata": {
        "colab": {
          "base_uri": "https://localhost:8080/",
          "height": 211
        },
        "id": "daoURZ-N7Luk",
        "outputId": "1c9a026b-9526-4e77-ef3d-6626aeed895e"
      },
      "execution_count": null,
      "outputs": [
        {
          "output_type": "display_data",
          "data": {
            "text/plain": [
              "<Figure size 432x216 with 1 Axes>"
            ],
            "image/png": "[encoded data removed]"
          },
          "metadata": {
            "needs_background": "light"
          }
        }
      ]
    },
    {
      "cell_type": "code",
      "source": [
        "X_train, X_test, y_train, y_test = train_test_split(X, y, test_size=0.25, random_state=42)"
      ],
      "metadata": {
        "id": "zSQRqwII7IzQ"
      },
      "execution_count": null,
      "outputs": []
    },
    {
      "cell_type": "markdown",
      "source": [
        "# 1) KNN"
      ],
      "metadata": {
        "id": "LO_SAecg_TeE"
      }
    },
    {
      "cell_type": "code",
      "source": [
        "from sklearn.neighbors import KNeighborsClassifier\n",
        "\n",
        "mse_knn=[]\n",
        "acc_knn=[]\n",
        "K_MIN = 2\n",
        "K_MAX =20\n",
        "arr_K = np.arange(K_MIN,K_MAX)\n",
        "for K in arr_K :\n",
        "    model =  KNeighborsClassifier(n_neighbors = K)\n",
        "    model = model.fit(X_train, y_train) \n",
        "    y_pred = model.predict(X_test)\n",
        "    acc = accuracy_score(y_test, y_pred)\n",
        "    acc_knn.append(acc) \n"
      ],
      "metadata": {
        "id": "BhF7R6o94q4E"
      },
      "execution_count": null,
      "outputs": []
    },
    {
      "cell_type": "code",
      "source": [
        "plt.figure(figsize=(8,8))\n",
        "plt.plot(np.arange(K_MIN , K_MAX), acc_knn)\n",
        "plt.scatter(np.arange(K_MIN , K_MAX), acc_knn)\n",
        "plt.xlabel('K')\n",
        "plt.ylabel('ACCURACY')\n",
        "plt.title('K VS ACCURACY')\n",
        "plt.show()"
      ],
      "metadata": {
        "colab": {
          "base_uri": "https://localhost:8080/",
          "height": 513
        },
        "id": "Qb2yTobT6_rU",
        "outputId": "c4189976-5f9c-4e3a-ad3e-e61ccab1dfad"
      },
      "execution_count": null,
      "outputs": [
        {
          "output_type": "display_data",
          "data": {
            "text/plain": [
              "<Figure size 576x576 with 1 Axes>"
            ],
            "image/png": "[encoded data removed]"
          },
          "metadata": {
            "needs_background": "light"
          }
        }
      ]
    },
    {
      "cell_type": "markdown",
      "source": [
        "Best K according to the graph is K=5"
      ],
      "metadata": {
        "id": "9jIiDIZN9Wgn"
      }
    },
    {
      "cell_type": "markdown",
      "source": [
        "### MANHATTAN"
      ],
      "metadata": {
        "id": "7EK9WfEa7_CK"
      }
    },
    {
      "cell_type": "code",
      "source": [
        "knn2 =  KNeighborsClassifier(n_neighbors = K , p=1)\n",
        "knn2 = knn2.fit(X_train, y_train) \n",
        "y_pred2 = knn2.predict(X_test)\n",
        "\n",
        "acc_knn2 = accuracy_score(y_test, y_pred2)\n",
        "\n",
        "print(\"ACCURACY FOR MANHATTAN : \", acc_knn2)\n",
        "\n"
      ],
      "metadata": {
        "colab": {
          "base_uri": "https://localhost:8080/"
        },
        "id": "C4fhIo9N7zoB",
        "outputId": "d5a982d9-8f1e-4e41-81bd-a653aecfb80c"
      },
      "execution_count": null,
      "outputs": [
        {
          "output_type": "stream",
          "name": "stdout",
          "text": [
            "ACCURACY FOR MANHATTAN :  0.9443069306930693\n"
          ]
        }
      ]
    },
    {
      "cell_type": "markdown",
      "source": [
        "### EUCLIDEAN"
      ],
      "metadata": {
        "id": "AvEJ_cjk-6E9"
      }
    },
    {
      "cell_type": "code",
      "source": [
        "knn3 =  KNeighborsClassifier(n_neighbors = K , p=2)\n",
        "knn3 = knn3.fit(X_train, y_train) \n",
        "y_pred3 = knn3.predict(X_test)\n",
        "\n",
        "acc_knn3 = accuracy_score(y_test, y_pred3)\n",
        "\n",
        "print(\"ACCURACY FOR EUCLIDEAN : \", acc_knn3)\n",
        "\n"
      ],
      "metadata": {
        "colab": {
          "base_uri": "https://localhost:8080/"
        },
        "id": "bEKvyBeo-5bx",
        "outputId": "ecbd4adb-7dff-463a-d451-3ce5041d3b5d"
      },
      "execution_count": null,
      "outputs": [
        {
          "output_type": "stream",
          "name": "stdout",
          "text": [
            "ACCURACY FOR EUCLIDEAN :  0.9356435643564357\n"
          ]
        }
      ]
    },
    {
      "cell_type": "markdown",
      "source": [
        "### Distance Power for Best K"
      ],
      "metadata": {
        "id": "L0dse_ZN-lvw"
      }
    },
    {
      "cell_type": "code",
      "source": [
        "BEST_K = 5\n",
        "\n",
        "from sklearn.neighbors import KNeighborsClassifier\n",
        "\n",
        "acc_knn=[]\n",
        "P_MIN = 1\n",
        "P_MAX =10\n",
        "arr_K = np.arange(P_MIN,P_MAX)\n",
        "for p in arr_K :\n",
        "    model =  KNeighborsClassifier(n_neighbors = 5 , p=p)\n",
        "    model = model.fit(X_train, y_train) \n",
        "    y_pred = model.predict(X_test)\n",
        "    acc = accuracy_score(y_test, y_pred)\n",
        "    acc_knn.append(acc) \n"
      ],
      "metadata": {
        "id": "vG-7F4S0725d"
      },
      "execution_count": null,
      "outputs": []
    },
    {
      "cell_type": "code",
      "source": [
        "plt.figure(figsize=(8,8))\n",
        "plt.plot(np.arange(P_MIN , P_MAX), acc_knn)\n",
        "plt.scatter(np.arange(P_MIN , P_MAX), acc_knn)\n",
        "plt.xlabel('DISTANCE POWER')\n",
        "plt.ylabel('ACCURACY')\n",
        "plt.title('ACCURACY VS DISTANCE POWER')\n",
        "plt.show()"
      ],
      "metadata": {
        "colab": {
          "base_uri": "https://localhost:8080/",
          "height": 513
        },
        "id": "99vi7eIp9uTZ",
        "outputId": "64963e8c-bb16-415d-9f2e-3369eec589e0"
      },
      "execution_count": null,
      "outputs": [
        {
          "output_type": "display_data",
          "data": {
            "text/plain": [
              "<Figure size 576x576 with 1 Axes>"
            ],
            "image/png": "[encoded data removed]"
          },
          "metadata": {
            "needs_background": "light"
          }
        }
      ]
    },
    {
      "cell_type": "markdown",
      "source": [
        "# 2)  SVM"
      ],
      "metadata": {
        "id": "Brm3IWPj_VqM"
      }
    },
    {
      "cell_type": "code",
      "source": [
        "from sklearn.svm import SVC\n",
        "svm = SVC()\n",
        "svm.fit(X, y)\n",
        "y_pred = svm.predict(X_test)\n",
        "acc_svm = accuracy_score(y_test, y_pred)\n",
        "\n",
        "print(\"ACCURACY FOR MANHATTAN : \", acc_svm)"
      ],
      "metadata": {
        "id": "X3kXvMCG91Yh",
        "colab": {
          "base_uri": "https://localhost:8080/"
        },
        "outputId": "1d371e3e-6fff-4084-8932-5182296dccee"
      },
      "execution_count": null,
      "outputs": [
        {
          "output_type": "stream",
          "name": "stdout",
          "text": [
            "ACCURACY FOR MANHATTAN :  1.0\n"
          ]
        }
      ]
    },
    {
      "cell_type": "markdown",
      "source": [
        "## SQUARED L2 PENALTY"
      ],
      "metadata": {
        "id": "VytADE3IwlVJ"
      }
    },
    {
      "cell_type": "code",
      "source": [
        "acc_svm_l2=[]\n",
        "C_MIN = 1\n",
        "C_MAX =11\n",
        "arr_C = np.arange(C_MIN,C_MAX)\n",
        "for i in arr_C :\n",
        "    model =  SVC(C = i)\n",
        "    model = model.fit(X_train, y_train) \n",
        "    y_pred = model.predict(X_test)\n",
        "    acc = accuracy_score(y_test, y_pred)\n",
        "    acc_svm_l2.append(acc) \n"
      ],
      "metadata": {
        "id": "FF8oIKAqvUVF"
      },
      "execution_count": null,
      "outputs": []
    },
    {
      "cell_type": "code",
      "source": [
        "plt.figure(figsize=(8,8))\n",
        "plt.plot(np.arange(C_MIN , C_MAX), acc_svm_l2)\n",
        "plt.scatter(np.arange(C_MIN , C_MAX), acc_svm_l2)\n",
        "plt.xlabel('SQUARED L2 PENALTY')\n",
        "plt.ylabel('ACCURACY')\n",
        "plt.title('ACCURACY VS QUARED L2 PENALTY')\n",
        "plt.show()"
      ],
      "metadata": {
        "colab": {
          "base_uri": "https://localhost:8080/",
          "height": 513
        },
        "id": "-kw40v_Zvvqq",
        "outputId": "64dc6571-1658-4362-affb-32ed4c0658a3"
      },
      "execution_count": null,
      "outputs": [
        {
          "output_type": "display_data",
          "data": {
            "text/plain": [
              "<Figure size 576x576 with 1 Axes>"
            ],
            "image/png": "[encoded data removed]"
          },
          "metadata": {
            "needs_background": "light"
          }
        }
      ]
    },
    {
      "cell_type": "markdown",
      "source": [
        "## KERNEL\n"
      ],
      "metadata": {
        "id": "IgkNBME0w0In"
      }
    },
    {
      "cell_type": "code",
      "source": [
        "acc_svm=[]\n",
        "kernel = ['linear', 'poly', 'rbf', 'sigmoid']\n",
        "\n",
        "for ker in kernel :\n",
        "    model =  SVC(kernel = ker)\n",
        "    model = model.fit(X_train, y_train) \n",
        "    y_pred = model.predict(X_test)\n",
        "    acc = accuracy_score(y_test, y_pred)\n",
        "    acc_svm.append(acc) \n"
      ],
      "metadata": {
        "id": "yWZgGj2uwK81"
      },
      "execution_count": null,
      "outputs": []
    },
    {
      "cell_type": "code",
      "source": [
        "plt.figure(figsize=(8,8))\n",
        "plt.plot(kernel, acc_svm)\n",
        "plt.scatter(kernel, acc_svm)\n",
        "plt.xlabel('KERNEL')\n",
        "plt.ylabel('ACCURACY')\n",
        "plt.title('ACCURACY VS DISTANCE POWER')\n",
        "plt.show()"
      ],
      "metadata": {
        "colab": {
          "base_uri": "https://localhost:8080/",
          "height": 513
        },
        "id": "CWSgw7xRxJH-",
        "outputId": "1e41cab6-ea97-4f8d-c9b0-4bf50f69540e"
      },
      "execution_count": null,
      "outputs": [
        {
          "output_type": "display_data",
          "data": {
            "text/plain": [
              "<Figure size 576x576 with 1 Axes>"
            ],
            "image/png": "[encoded data removed]"
          },
          "metadata": {
            "needs_background": "light"
          }
        }
      ]
    },
    {
      "cell_type": "markdown",
      "source": [
        "## NON LINEAR DATA"
      ],
      "metadata": {
        "id": "eCHvn3AUy3-3"
      }
    },
    {
      "cell_type": "code",
      "source": [
        "from sklearn.datasets import make_circles\n",
        "X_circle, y_circle = make_circles(n_samples=200 , noise=0.1, factor=0.2, random_state=1)\n",
        "X1 = X_circle[:, 0].flatten()\n",
        "X2 = X_circle[:, 1].flatten()"
      ],
      "metadata": {
        "id": "Cn0sIh5Yxnpg"
      },
      "execution_count": null,
      "outputs": []
    },
    {
      "cell_type": "code",
      "source": [
        "from matplotlib.colors import ListedColormap\n",
        "cmap = ListedColormap(['blue', 'red'])                    \n",
        "plt.scatter(X1,X2, c=y_circle ,marker='.', cmap=cmap)\n",
        "plt.show()"
      ],
      "metadata": {
        "colab": {
          "base_uri": "https://localhost:8080/",
          "height": 265
        },
        "id": "_Qc1q1BGz9ap",
        "outputId": "47b91d15-bc7e-4ba5-c608-d2e3a2bcccf9"
      },
      "execution_count": null,
      "outputs": [
        {
          "output_type": "display_data",
          "data": {
            "text/plain": [
              "<Figure size 432x288 with 1 Axes>"
            ],
            "image/png": "[encoded data removed]"
          },
          "metadata": {
            "needs_background": "light"
          }
        }
      ]
    },
    {
      "cell_type": "code",
      "source": [
        "X_train_circle, X_test_circle, y_train_circle, y_test_circle = train_test_split(X, y, test_size=0.25, random_state=42)"
      ],
      "metadata": {
        "id": "sO6P2hcE4ODU"
      },
      "execution_count": null,
      "outputs": []
    },
    {
      "cell_type": "code",
      "source": [
        "acc_svm_circle=[]\n",
        "kernel = ['linear', 'poly', 'rbf', 'sigmoid']\n",
        "\n",
        "for ker in kernel :\n",
        "    model =  SVC(kernel = ker)\n",
        "    model = model.fit(X_train_circle, y_train_circle) \n",
        "    y_pred_circle = model.predict(X_test_circle)\n",
        "    acc_circle = accuracy_score(y_test_circle, y_pred_circle)\n",
        "    acc_svm_circle.append(acc_circle) \n"
      ],
      "metadata": {
        "id": "u24lwoNJ0COI"
      },
      "execution_count": null,
      "outputs": []
    },
    {
      "cell_type": "code",
      "source": [
        "plt.figure(figsize=(8,8))\n",
        "plt.plot(kernel, acc_svm_circle)\n",
        "plt.scatter(kernel, acc_svm_circle)\n",
        "plt.xlabel('KERNEL')\n",
        "plt.ylabel('ACCURACY')\n",
        "plt.title('ACCURACY VS NON')\n",
        "plt.show()"
      ],
      "metadata": {
        "colab": {
          "base_uri": "https://localhost:8080/",
          "height": 513
        },
        "id": "N_xJCRsb3bC1",
        "outputId": "511a32fc-93f5-471c-86dc-1eb3c47ecea9"
      },
      "execution_count": null,
      "outputs": [
        {
          "output_type": "display_data",
          "data": {
            "text/plain": [
              "<Figure size 576x576 with 1 Axes>"
            ],
            "image/png": "[encoded data removed]"
          },
          "metadata": {
            "needs_background": "light"
          }
        }
      ]
    },
    {
      "cell_type": "markdown",
      "source": [
        "POLYNOMIAL"
      ],
      "metadata": {
        "id": "hUx9o847IhtP"
      }
    },
    {
      "cell_type": "code",
      "source": [
        "import random \n",
        "X_poly =[]\n",
        "y_poly =[]\n",
        "\n",
        "for i in range(100):\n",
        "  x = random.randint(1, 500)\n",
        "  X_poly.append(x)\n",
        "  y_poly.append(x**(1/5) + 3*(x**3) - 2*(x**2)+ x +10)\n"
      ],
      "metadata": {
        "id": "NYWCozj_ucv5"
      },
      "execution_count": null,
      "outputs": []
    },
    {
      "cell_type": "code",
      "source": [
        "plt.scatter(X_poly, y_poly)\n",
        "plt.figure(figsize=(8,8))"
      ],
      "metadata": {
        "colab": {
          "base_uri": "https://localhost:8080/",
          "height": 312
        },
        "id": "BnePyDmPvs2z",
        "outputId": "194cf41d-274e-4ebb-bcf3-51979cdbed23"
      },
      "execution_count": null,
      "outputs": [
        {
          "output_type": "execute_result",
          "data": {
            "text/plain": [
              "<Figure size 576x576 with 0 Axes>"
            ]
          },
          "metadata": {},
          "execution_count": 28
        },
        {
          "output_type": "display_data",
          "data": {
            "text/plain": [
              "<Figure size 432x288 with 1 Axes>"
            ],
            "image/png": "[encoded data removed]"
          },
          "metadata": {
            "needs_background": "light"
          }
        },
        {
          "output_type": "display_data",
          "data": {
            "text/plain": [
              "<Figure size 576x576 with 0 Axes>"
            ]
          },
          "metadata": {}
        }
      ]
    },
    {
      "cell_type": "code",
      "source": [
        "from sklearn.datasets import make_blobs\n",
        "X_poly, y_poly = make_blobs(n_samples=200,center_box=(-10,10), cluster_std=5,centers=2, n_features=2 , random_state=2)\n",
        "X1_blob = X_poly[:, 0].flatten()\n",
        "X2_blob = X_poly[:, 1].flatten()"
      ],
      "metadata": {
        "id": "d19sSK9n4EIP"
      },
      "execution_count": null,
      "outputs": []
    },
    {
      "cell_type": "code",
      "source": [
        "\n",
        "from matplotlib.colors import ListedColormap\n",
        "cmap = ListedColormap(['blue', 'red', 'green'])                    \n",
        "plt.scatter(X1_blob, X2_blob, c=y_poly ,marker='.', cmap=cmap)\n",
        "plt.figure(figsize=(8,8))\n",
        "plt.show()"
      ],
      "metadata": {
        "colab": {
          "base_uri": "https://localhost:8080/",
          "height": 283
        },
        "id": "hMyUmK2g_hAL",
        "outputId": "b5339e8b-5043-4b67-d414-d0a30557d1b3"
      },
      "execution_count": null,
      "outputs": [
        {
          "output_type": "display_data",
          "data": {
            "text/plain": [
              "<Figure size 432x288 with 1 Axes>"
            ],
            "image/png": "[encoded data removed]"
          },
          "metadata": {
            "needs_background": "light"
          }
        },
        {
          "output_type": "display_data",
          "data": {
            "text/plain": [
              "<Figure size 576x576 with 0 Axes>"
            ]
          },
          "metadata": {}
        }
      ]
    },
    {
      "cell_type": "code",
      "source": [
        "X_train_poly, X_test_poly, y_train_poly, y_test_poly = train_test_split(X, y, test_size=0.25, random_state=42)"
      ],
      "metadata": {
        "id": "QiOKfyPjAaxc"
      },
      "execution_count": null,
      "outputs": []
    },
    {
      "cell_type": "code",
      "source": [
        "acc_svm_poly=[]\n",
        "kernel = ['linear', 'poly', 'rbf', 'sigmoid']\n",
        "\n",
        "for ker in kernel :\n",
        "    model =  SVC(kernel = ker)\n",
        "    model = model.fit(X_train_poly, y_train_poly) \n",
        "    y_pred_poly = model.predict(X_test_poly)\n",
        "    acc_poly = accuracy_score(y_test_poly, y_pred_poly)\n",
        "    acc_svm_poly.append(acc_poly) \n"
      ],
      "metadata": {
        "id": "KcTgbq3Y_9n-"
      },
      "execution_count": null,
      "outputs": []
    },
    {
      "cell_type": "code",
      "source": [
        "plt.figure(figsize=(8,8))\n",
        "plt.plot(kernel, acc_svm_poly)\n",
        "plt.scatter(kernel, acc_svm_poly)\n",
        "plt.xlabel('KERNEL')\n",
        "plt.ylabel('ACCURACY')\n",
        "plt.title('ACCURACY VS NON- LINEAER')\n",
        "plt.show()"
      ],
      "metadata": {
        "colab": {
          "base_uri": "https://localhost:8080/",
          "height": 513
        },
        "id": "keYV7i_GAQbq",
        "outputId": "2c0dbb6a-aff1-4add-bc2e-ffedef5f7aa4"
      },
      "execution_count": null,
      "outputs": [
        {
          "output_type": "display_data",
          "data": {
            "text/plain": [
              "<Figure size 576x576 with 1 Axes>"
            ],
            "image/png": "[encoded data removed]"
          },
          "metadata": {
            "needs_background": "light"
          }
        }
      ]
    }
  ]
}