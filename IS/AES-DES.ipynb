{
  "nbformat": 4,
  "nbformat_minor": 0,
  "metadata": {
    "colab": {
      "name": "Encryption.ipynb",
      "provenance": []
    },
    "kernelspec": {
      "name": "python3",
      "display_name": "Python 3"
    },
    "language_info": {
      "name": "python"
    }
  },
  "cells": [
    {
      "cell_type": "markdown",
      "source": [
        "# 1) AES"
      ],
      "metadata": {
        "id": "LEfB0vE8iWSe"
      }
    },
    {
      "cell_type": "markdown",
      "source": [
        "https://www.pycryptodome.org/en/latest/src/examples.html"
      ],
      "metadata": {
        "id": "9qAyiGuRiTD3"
      }
    },
    {
      "cell_type": "code",
      "execution_count": 1,
      "metadata": {
        "colab": {
          "base_uri": "https://localhost:8080/"
        },
        "id": "yHG5ISkOgNI0",
        "outputId": "4278947b-d419-41cd-fa5c-80630a88be47"
      },
      "outputs": [
        {
          "output_type": "stream",
          "name": "stdout",
          "text": [
            "Looking in indexes: https://pypi.org/simple, https://us-python.pkg.dev/colab-wheels/public/simple/\n",
            "Collecting pycryptodome\n",
            "  Downloading pycryptodome-3.14.1-cp35-abi3-manylinux2010_x86_64.whl (2.0 MB)\n",
            "\u001b[K     |████████████████████████████████| 2.0 MB 5.0 MB/s \n",
            "\u001b[?25hInstalling collected packages: pycryptodome\n",
            "Successfully installed pycryptodome-3.14.1\n"
          ]
        }
      ],
      "source": [
        "!pip install pycryptodome "
      ]
    },
    {
      "cell_type": "code",
      "source": [
        "from Crypto.Cipher import AES\n",
        "from Crypto.Random import get_random_bytes"
      ],
      "metadata": {
        "id": "yUez6rd9gRxC"
      },
      "execution_count": 11,
      "outputs": []
    },
    {
      "cell_type": "code",
      "source": [
        "key_aes = get_random_bytes(16)\n",
        "print(\"KEY : \",key_aes)\n",
        "# key_aes = b'1234123412341234'\n",
        "data =b\"My name is meith navlakha testing 123..\""
      ],
      "metadata": {
        "colab": {
          "base_uri": "https://localhost:8080/"
        },
        "id": "dvYVdIcRiHIf",
        "outputId": "7a4ab3de-67cf-4409-ef46-180e03a064c3"
      },
      "execution_count": 15,
      "outputs": [
        {
          "output_type": "stream",
          "name": "stdout",
          "text": [
            "KEY :  b\"6K'<\\xf7\\xba-\\x8d\\xb9I\\x16\\xf5vs\\xb1\\x9d\"\n"
          ]
        }
      ]
    },
    {
      "cell_type": "code",
      "source": [
        "# ENCRYPTION\n",
        "cipher = AES.new(key_aes, AES.MODE_EAX)\n",
        "nonce = cipher.nonce\n",
        "ciphertext, tag = cipher.encrypt_and_digest(data)"
      ],
      "metadata": {
        "id": "fi9aroMogawq"
      },
      "execution_count": 13,
      "outputs": []
    },
    {
      "cell_type": "code",
      "source": [
        "# DECRYPTION\n",
        "cipher = AES.new(key_aes, AES.MODE_EAX, nonce=nonce)\n",
        "plaintext = cipher.decrypt(ciphertext)\n",
        "try:\n",
        "    cipher.verify(tag)\n",
        "    print(\"The message is authentic:\", plaintext)\n",
        "except ValueError:\n",
        "    print(\"Key incorrect or message corrupted\")"
      ],
      "metadata": {
        "colab": {
          "base_uri": "https://localhost:8080/"
        },
        "id": "oiYhkZOugpNf",
        "outputId": "426cd8f9-a9e9-4ccb-bf7b-cbd98db26db9"
      },
      "execution_count": 14,
      "outputs": [
        {
          "output_type": "stream",
          "name": "stdout",
          "text": [
            "The message is authentic: b'My name is meith navlakha testing 123..'\n"
          ]
        }
      ]
    },
    {
      "cell_type": "markdown",
      "source": [
        "# 2) DES"
      ],
      "metadata": {
        "id": "EU2UsdzVinCW"
      }
    },
    {
      "cell_type": "code",
      "source": [
        "from Crypto.Cipher import DES\n",
        "key_des = get_random_bytes(8)\n",
        "iv_DES = get_random_bytes(8)\n",
        "print(\"KEY DES : \", key_des)"
      ],
      "metadata": {
        "colab": {
          "base_uri": "https://localhost:8080/"
        },
        "id": "8uxT7sc2haPm",
        "outputId": "29dcd808-e247-4608-cf0d-1622b67db1d0"
      },
      "execution_count": 39,
      "outputs": [
        {
          "output_type": "stream",
          "name": "stdout",
          "text": [
            "KEY DES :  b'\\xbbE\\xd3\\x028\\x02pM'\n"
          ]
        }
      ]
    },
    {
      "cell_type": "code",
      "source": [
        "# ENCRYPTION\n",
        "des = DES.new(key_des, DES.MODE_CFB, iv_DES)\n",
        "ct =  des.encrypt(data)\n",
        "print(\"DES CIPHERED TEXT : \" ,ct)"
      ],
      "metadata": {
        "colab": {
          "base_uri": "https://localhost:8080/"
        },
        "id": "cp_G-BbHjUov",
        "outputId": "16057b4b-256e-4385-bee4-30a3f3aa0138"
      },
      "execution_count": 42,
      "outputs": [
        {
          "output_type": "stream",
          "name": "stdout",
          "text": [
            "DES CIPHERED TEXT :  b'\\x1f3\\x18J\\xe7\\x86\\x15O\\xb1W\\x19J\\x84q4\\xbdj\"F\\xbd\\x9d\\xae\\xb9&\\xa03)P\\xf2\\xf0\\x1c\\xd4\\xdaO1\\x89\\xf4_\\x1e'\n"
          ]
        }
      ]
    },
    {
      "cell_type": "code",
      "source": [
        "# DECRYPTION\n",
        "des_decrypt = DES.new(key_des, DES.MODE_CFB, iv_DES)\n",
        "plaintext_des = des_decrypt.decrypt(ct)\n",
        "print(\"DES DECIPHERED TEXT : \" ,plaintext_des)"
      ],
      "metadata": {
        "colab": {
          "base_uri": "https://localhost:8080/"
        },
        "id": "GQtVjMjCjbDH",
        "outputId": "038f4257-e9ae-4c4a-c56a-8ec91171b3b5"
      },
      "execution_count": 43,
      "outputs": [
        {
          "output_type": "stream",
          "name": "stdout",
          "text": [
            "DES DECIPHERED TEXT :  b'My name is meith navlakha testing 123..'\n"
          ]
        }
      ]
    },
    {
      "cell_type": "code",
      "source": [
        ""
      ],
      "metadata": {
        "id": "RueXV2RXkA34"
      },
      "execution_count": null,
      "outputs": []
    }
  ]
}